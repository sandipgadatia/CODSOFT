{
 "cells": [
  {
   "cell_type": "code",
   "execution_count": null,
   "metadata": {},
   "outputs": [],
   "source": [
    "import pandas as pd\n",
    "\n",
    "# Load the dataset\n",
    "data_path = '../data/ml-100k/u.data'\n",
    "item_path = '../data/ml-100k/u.item'\n",
    "\n",
    "ratings = pd.read_csv(data_path, sep='\\t', names=['user_id', 'movie_id', 'rating', 'timestamp'])\n",
    "movies = pd.read_csv(item_path, sep='|', encoding='latin-1', usecols=[0, 1], names=['movie_id', 'title'])\n",
    "\n",
    "# Display the first few rows of the datasets\n",
    "print(ratings.head())\n",
    "print(movies.head())\n",
    "\n",
    "# Basic statistics\n",
    "print(ratings.describe())\n"
   ]
  }
 ],
 "metadata": {
  "language_info": {
   "name": "python"
  }
 },
 "nbformat": 4,
 "nbformat_minor": 2
}
