{
 "cells": [
  {
   "cell_type": "code",
   "execution_count": null,
   "metadata": {},
   "outputs": [],
   "source": [
    "import pandas as pd\n",
    "from surprise import Dataset, Reader, SVD\n",
    "from surprise.model_selection import train_test_split\n",
    "import pickle\n",
    "\n",
    "# Load and preprocess data\n",
    "data_path = '../data/ml-100k/u.data'\n",
    "item_path = '../data/ml-100k/u.item'\n",
    "\n",
    "ratings = pd.read_csv(data_path, sep='\\t', names=['user_id', 'movie_id', 'rating', 'timestamp'])\n",
    "movies = pd.read_csv(item_path, sep='|', encoding='latin-1', usecols=[0, 1], names=['movie_id', 'title'])\n",
    "\n",
    "ratings = ratings.drop('timestamp', axis=1)\n",
    "\n",
    "reader = Reader(rating_scale=(1, 5))\n",
    "data = Dataset.load_from_df(ratings[['user_id', 'movie_id', 'rating']], reader)\n",
    "\n",
    "trainset, testset = train_test_split(data, test_size=0.25)\n",
    "\n",
    "model = SVD()\n",
    "model.fit(trainset)\n",
    "\n",
    "# Save the model\n",
    "with open('../models/recommendation_model.pkl', 'wb') as f:\n",
    "    pickle.dump(model, f)\n",
    "\n",
    "# Evaluate the model\n",
    "predictions = model.test(testset)\n",
    "from surprise import accuracy\n",
    "accuracy.rmse(predictions)\n"
   ]
  }
 ],
 "metadata": {
  "language_info": {
   "name": "python"
  }
 },
 "nbformat": 4,
 "nbformat_minor": 2
}
